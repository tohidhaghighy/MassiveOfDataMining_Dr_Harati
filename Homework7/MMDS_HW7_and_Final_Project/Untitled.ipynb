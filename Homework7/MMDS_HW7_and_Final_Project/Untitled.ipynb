{
 "cells": [
  {
   "cell_type": "code",
   "execution_count": 1,
   "metadata": {},
   "outputs": [],
   "source": [
    "import numpy as np\n",
    "import pandas as pd"
   ]
  },
  {
   "cell_type": "code",
   "execution_count": 2,
   "metadata": {},
   "outputs": [
    {
     "name": "stderr",
     "output_type": "stream",
     "text": [
      "usage: ipykernel_launcher.py [options] [input files]\n",
      "ipykernel_launcher.py: error: unrecognized arguments: -f\n"
     ]
    },
    {
     "ename": "SystemExit",
     "evalue": "2",
     "output_type": "error",
     "traceback": [
      "An exception has occurred, use %tb to see the full traceback.\n",
      "\u001b[1;31mSystemExit\u001b[0m\u001b[1;31m:\u001b[0m 2\n"
     ]
    },
    {
     "name": "stderr",
     "output_type": "stream",
     "text": [
      "c:\\users\\tohid-pc\\appdata\\local\\programs\\python\\python38-32\\lib\\site-packages\\IPython\\core\\interactiveshell.py:3426: UserWarning: To exit: use 'exit', 'quit', or Ctrl-D.\n",
      "  warn(\"To exit: use 'exit', 'quit', or Ctrl-D.\", stacklevel=1)\n"
     ]
    }
   ],
   "source": [
    "from mrjob.job import MRJob\n",
    "from mrjob.step import MRStep\n",
    "import numpy as np\n",
    "import logging\n",
    "\n",
    "class MRJoin(MRJob):\n",
    "\n",
    "    S_Line=6;\n",
    "    def mapper_first(self, key, line):\n",
    "        a=[]\n",
    "        a=line.split(' ')\n",
    "        try:\n",
    "            total = np.float(a[2])\n",
    "        except TypeError:\n",
    "            #print(\"skipping line with value\", a[2])\n",
    "            pass\n",
    "        else:\n",
    "            if(a[0]=='R'):\n",
    "                yield int(a[1]),(a[0],a[2],a[3])\n",
    "            else:\n",
    "                for i in range(6):\n",
    "                    yield i+1,(a[0],a[2],a[3])\n",
    "                      \n",
    "\n",
    "    def reducer_first(self, key, values):\n",
    "        arry1=[]\n",
    "        arry2=[]\n",
    "        for matrix,first,second in values:\n",
    "            if  matrix==\"R\":\n",
    "                arry1.append({\"key\":matrix,\"value1\":first,\"value2\":second})\n",
    "            if matrix==\"S\":\n",
    "                arry2.append({\"key\":matrix,\"value1\":first,\"value2\":second})\n",
    "                \n",
    "\n",
    "        for l in arry1:\n",
    "            for m in arry2:\n",
    "                if(l[\"value2\"] < m[\"value1\"]):\n",
    "                    yield (l[\"value2\"],m[\"value1\"]),(l[\"value1\"],l[\"value2\"],m[\"value1\"],m[\"value2\"])\n",
    "                \n",
    "\n",
    "    def steps(self):\n",
    "        return [\n",
    "            MRStep(\n",
    "                mapper=self.mapper_first,\n",
    "                reducer=self.reducer_first\n",
    "            ),\n",
    "            # MRStep(\n",
    "            #     reducer=self.reducer_second\n",
    "            # )\n",
    "        ]\n",
    "if __name__ == '__main__':\n",
    "    MRJoin.run()"
   ]
  },
  {
   "cell_type": "code",
   "execution_count": null,
   "metadata": {},
   "outputs": [],
   "source": []
  }
 ],
 "metadata": {
  "kernelspec": {
   "display_name": "Python 3",
   "language": "python",
   "name": "python3"
  },
  "language_info": {
   "codemirror_mode": {
    "name": "ipython",
    "version": 3
   },
   "file_extension": ".py",
   "mimetype": "text/x-python",
   "name": "python",
   "nbconvert_exporter": "python",
   "pygments_lexer": "ipython3",
   "version": "3.8.5"
  }
 },
 "nbformat": 4,
 "nbformat_minor": 4
}
