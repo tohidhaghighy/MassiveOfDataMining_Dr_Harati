{
 "cells": [
  {
   "cell_type": "code",
   "execution_count": 4,
   "metadata": {},
   "outputs": [],
   "source": [
    "import pandas as pd\n",
    "\n",
    "class CommonFunctions:\n",
    "    def __init__(self,database_name):\n",
    "        self.database_name=database_name\n",
    "\n",
    "    def read_Data(self):\n",
    "        return pd.read_csv(self.database_name)"
   ]
  },
  {
   "cell_type": "code",
   "execution_count": 5,
   "metadata": {},
   "outputs": [],
   "source": [
    "import hashlib\n",
    "import os\n",
    "from collections import defaultdict, namedtuple\n",
    "import pandas as pd\n",
    "\n",
    "class Flajolet_Martin:\n",
    "    def __init__(self,data):\n",
    "        self.data=data\n",
    "\n",
    "    def Find_Zero_Count(self,salt=b\"\"):\n",
    "        ZeroCount_list=[]\n",
    "        for i in range(len(self.data)):\n",
    "            s=self.data.iloc[i].person\n",
    "            hashcode=hashlib.pbkdf2_hmac(\"sha1\",s.encode('utf-8'),salt,1,8)\n",
    "            a=int.from_bytes(hashcode,\"big\")\n",
    "            b=bin(a)[2:]\n",
    "            ZeroCount_list.append(len(b)-len(b.rstrip(\"0\")))\n",
    "        return ZeroCount_list\n",
    "\n",
    "    def Find_Max_ZeroCount(self,list_zero_count):\n",
    "        return max(list_zero_count)\n",
    "\n",
    "    def Find_Salt(self):\n",
    "        return os.urandom(64)\n",
    "\n",
    "    def List_Hash_Flajolat_Martin(self):\n",
    "        flajolat_data_list= defaultdict(list)\n",
    "        for i in range(10):\n",
    "            salt=self.Find_Salt()\n",
    "            list_zero_count=self.Find_Zero_Count(salt)\n",
    "            print(max(list_zero_count))\n",
    "            flajolat_data_list[\"hash_function\"].append(salt)\n",
    "            flajolat_data_list[\"hash_group\"].append(i//100)\n",
    "            flajolat_data_list[\"tail_length\"].append(max(list_zero_count))\n",
    "\n",
    "        return flajolat_data_list\n",
    "\n",
    "    def Calculate_UserCount_Stimate(self,listhash):\n",
    "        hash_df = pd.DataFrame(listhash)\n",
    "        return hash_df.groupby(\"hash_group\").mean().median()\n",
    "\n",
    "\n",
    "\n"
   ]
  },
  {
   "cell_type": "code",
   "execution_count": 79,
   "metadata": {},
   "outputs": [],
   "source": [
    "import pandas as pd\n",
    "import hashlib\n",
    "import random\n",
    "import openpyxl\n",
    "\n",
    "wb = openpyxl.load_workbook(\"digikala.xlsx\")\n",
    "ws = wb['Sheet1']\n"
   ]
  },
  {
   "cell_type": "code",
   "execution_count": 80,
   "metadata": {
    "scrolled": false
   },
   "outputs": [],
   "source": [
    "import pandas as pd\n",
    "import hashlib\n",
    "import random\n",
    "import os\n",
    "\n",
    "ALL_VALUES=[]\n",
    "for i in range(20):\n",
    "    ZeroCount_list=[]\n",
    "    salt=os.urandom(64)\n",
    "    for row in ws.rows:\n",
    "        hashcode=hashlib.pbkdf2_hmac(\"sha1\",row[6].value.encode('utf-8'),salt,1,8)\n",
    "        a=int.from_bytes(hashcode,\"big\")\n",
    "        b=bin(a)[2:]\n",
    "        ZeroCount_list.append(len(b)-len(b.rstrip(\"0\")))\n",
    "    ALL_VALUES.append(max(ZeroCount_list))\n",
    "ALL_VALUES"
   ]
  },
  {
   "cell_type": "code",
   "execution_count": 81,
   "metadata": {},
   "outputs": [
    {
     "data": {
      "text/plain": [
       "5"
      ]
     },
     "execution_count": 81,
     "metadata": {},
     "output_type": "execute_result"
    }
   ],
   "source": [
    "max(ZeroCount_list)"
   ]
  },
  {
   "cell_type": "code",
   "execution_count": 32,
   "metadata": {},
   "outputs": [],
   "source": [
    "# 2^5 ta khane az hashing ra migirad  == 32 shahr"
   ]
  },
  {
   "cell_type": "code",
   "execution_count": 49,
   "metadata": {},
   "outputs": [
    {
     "name": "stdout",
     "output_type": "stream",
     "text": [
      "                                urls\n",
      "0      http://www.westchestergov.com\n",
      "1      http://www.courts.state.ny.us\n",
      "2                http://www.vera.org\n",
      "3           http://www.calottery.com\n",
      "4           http://www.calottery.com\n",
      "...                              ...\n",
      "24055    http://www.ossiningufsd.org\n",
      "24056     http://profile.myspace.com\n",
      "24057     http://profile.myspace.com\n",
      "24058     http://profile.myspace.com\n",
      "24059     http://www.tax.state.ny.us\n",
      "\n",
      "[24060 rows x 1 columns]\n"
     ]
    }
   ],
   "source": [
    "import pandas as pd\n",
    "\n",
    "data=pd.read_csv(\"urls.csv\")\n",
    "print(data)"
   ]
  },
  {
   "cell_type": "code",
   "execution_count": 83,
   "metadata": {},
   "outputs": [
    {
     "data": {
      "text/plain": [
       "[14,\n",
       " 17,\n",
       " 12,\n",
       " 17,\n",
       " 12,\n",
       " 13,\n",
       " 11,\n",
       " 12,\n",
       " 13,\n",
       " 16,\n",
       " 14,\n",
       " 12,\n",
       " 15,\n",
       " 13,\n",
       " 14,\n",
       " 12,\n",
       " 15,\n",
       " 11,\n",
       " 13,\n",
       " 13]"
      ]
     },
     "execution_count": 83,
     "metadata": {},
     "output_type": "execute_result"
    }
   ],
   "source": [
    "import pandas as pd\n",
    "import hashlib\n",
    "import random\n",
    "import os\n",
    "\n",
    "ALL_VALUES=[]\n",
    "for i in range(20):\n",
    "    ZeroCount_list_url=[]\n",
    "    salt=os.urandom(64)\n",
    "    data_table=pd.DataFrame(data)\n",
    "    for row in range(len(data_table)):\n",
    "        s=data_table.iloc[row].urls\n",
    "        hashcode=hashlib.pbkdf2_hmac(\"sha1\",s.encode('utf-8'),salt,1,8)\n",
    "        a=int.from_bytes(hashcode,\"big\")\n",
    "        b=bin(a)[2:]\n",
    "        ZeroCount_list_url.append(len(b)-len(b.rstrip(\"0\")))\n",
    "    ALL_VALUES.append(max(ZeroCount_list_url))\n",
    "ALL_VALUES"
   ]
  },
  {
   "cell_type": "code",
   "execution_count": null,
   "metadata": {},
   "outputs": [],
   "source": []
  },
  {
   "cell_type": "code",
   "execution_count": 65,
   "metadata": {},
   "outputs": [],
   "source": [
    "def fibonaci():\n",
    "    a = 0\n",
    "    b = 1\n",
    "    yield a\n",
    "    yield b \n",
    "    while True:\n",
    "        a = a + b\n",
    "        yield a"
   ]
  },
  {
   "cell_type": "code",
   "execution_count": 66,
   "metadata": {},
   "outputs": [],
   "source": [
    "f = fibonaci()"
   ]
  },
  {
   "cell_type": "code",
   "execution_count": 73,
   "metadata": {},
   "outputs": [
    {
     "data": {
      "text/plain": [
       "5"
      ]
     },
     "execution_count": 73,
     "metadata": {},
     "output_type": "execute_result"
    }
   ],
   "source": [
    "next(f)"
   ]
  },
  {
   "cell_type": "code",
   "execution_count": null,
   "metadata": {},
   "outputs": [],
   "source": [
    "a = [1, 2, 3]    "
   ]
  },
  {
   "cell_type": "code",
   "execution_count": 75,
   "metadata": {},
   "outputs": [],
   "source": [
    "def get_stream():\n",
    "    with open() as f:\n",
    "        yield f.readline"
   ]
  },
  {
   "cell_type": "code",
   "execution_count": null,
   "metadata": {},
   "outputs": [],
   "source": []
  }
 ],
 "metadata": {
  "kernelspec": {
   "display_name": "Python 3",
   "language": "python",
   "name": "python3"
  },
  "language_info": {
   "codemirror_mode": {
    "name": "ipython",
    "version": 3
   },
   "file_extension": ".py",
   "mimetype": "text/x-python",
   "name": "python",
   "nbconvert_exporter": "python",
   "pygments_lexer": "ipython3",
   "version": "3.8.5"
  }
 },
 "nbformat": 4,
 "nbformat_minor": 4
}
